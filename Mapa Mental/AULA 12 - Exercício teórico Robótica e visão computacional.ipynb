{
 "cells": [
  {
   "cell_type": "markdown",
   "id": "20866ddd",
   "metadata": {},
   "source": [
    "Vitor Albuquerque de Paula"
   ]
  },
  {
   "cell_type": "markdown",
   "id": "6eab9c22",
   "metadata": {},
   "source": [
    "# Pesquise uma aplicação usando redes neurais profundas (carros autônomos, deep fakes, reconhecimento facial, reconhecimento de voz, medicina, etc), descreva qual o tipo de rede neural essa aplicação utiliza e qual a arquitetura da rede neural. Cite as fontes consultadas!\n",
    "\n",
    "\n",
    "## BirdNET Analyzer: Uma Visão Geral Abrangente\n",
    "\n",
    "O BirdNET Analyzer é uma aplicação avançada de rede neural projetada para o processamento de dados de áudio científicos, especificamente para monitoramento da diversidade aviana. Desenvolvida pelo K. Lisa Yang Center for Conservation Bioacoustics no Cornell Lab of Ornithology e pela Chemnitz University of Technology, representa um avanço significativo na pesquisa e análise de bioacústica.\n",
    "\n",
    "## Arquitetura da Rede Neural e Detalhes Técnicos\n",
    "\n",
    "- **Tipo de Rede Neural**: O BirdNET Analyzer utiliza uma arquitetura de rede neural convolucional (CNN).\n",
    "- **Versão do Modelo**: A partir de junho de 2023, a versão mais recente é a V2.4.\n",
    "- **Características-chave da V2.4**:\n",
    "  - **Cobertura de Espécies**: Capaz de identificar mais de 6.000 espécies de aves em todo o mundo.\n",
    "  - **Faixa de Frequência**: Abrange frequências de 0 Hz a 15 kHz usando um espectrograma de dois canais para frequências baixas e altas.\n",
    "  - **Resolução do Espectrograma**: Cada espectrograma possui uma resolução de 96x511 pixels.\n",
    "  - **Backbone semelhante ao EfficientNetB0**: A rede utiliza um backbone semelhante ao EfficientNetB0 com um tamanho de incorporação final de 1024.\n",
    "  - **Processamento de Áudio**: O modelo lida com uma taxa de amostragem de 48 kHz e calcula dois espectrogramas mel como entrada [https://www.birdweather.com/birdnetpi].\n",
    "\n",
    "## Versão BirdNET-Pi para Raspberry Pi\n",
    "\n",
    "BirdNET-Pi é uma variante do BirdNET Analyzer projetada para Raspberry Pi. Ela permite a gravação contínua e a identificação automática de vocalizações de aves usando o modelo de aprendizado de máquina BirdNET. As principais características incluem:\n",
    "\n",
    "- **Extração Automática**: Cataloga clipes de aves de gravações completas.\n",
    "- **Ferramentas de Visualização de Dados**: Para análise de dados de aves gravados e tendências.\n",
    "- **Transmissão de Áudio ao Vivo e Espectrograma**: Fornecendo monitoramento de áudio em tempo real.\n",
    "- **Interface Web**: Para fácil acesso a dados e logs.\n",
    "- **Gerenciamento de Banco de Dados**: Utiliza o Banco de Dados SQLite3 e suporta manutenção de banco de dados com Adminer.\n",
    "- **Plataformas de Notificação**: Suporta mais de 70 plataformas de notificação via Apprise Notifications.\n",
    "- **Localização**: Oferece suporte multilíngue【18†fonte】.\n",
    "\n",
    "## Monitoramento e Visualização em Tempo Real\n",
    "\n",
    "Para o monitoramento e visualização em tempo real das vocalizações de aves, a BirdWeather, uma plataforma alimentada pelo BirdNET, oferece uma solução abrangente:\n",
    "\n",
    "- **URL**: [BirdWeather](https://app.birdweather.com/)\n",
    "- **Recursos**:\n",
    "  - **Explorador de Dados**: Para análise e exploração aprofundada de vocalizações de aves.\n",
    "  - **Estações e Espécies Mais Ativas**: Destaca as estações de monitoramento mais ativas e as espécies frequentemente identificadas.\n",
    "  - **Sessões BirdWeather**: Mais de 28.803 sessões em uma semana recente, indicando uso ativo e amplo.\n",
    "\n",
    "\n"
   ]
  },
  {
   "cell_type": "markdown",
   "id": "8bf25033",
   "metadata": {},
   "source": [
    "# Qual tema abordado na disciplina de IA lhe chamou mais atenção e você acha que poderia ser aprofundado? Tem algum tema de IA que não foi abordado e você acha importante?\n",
    "\n",
    "Estou fazendo essa disciplina em paralelo com a disciplina de redes neurais, entao alguns dos conteudos eu vi de forma mais aprofundada na disciplina de redes neurais. Particularmente, acho que seria legal ter uma aula especifica pincelando sobre os novos modelos que estao fazendo barulho, como o transformer. No mais, achei a disciplina excelente e nao senti falta de nenhum tópico.\n",
    "\n"
   ]
  },
  {
   "cell_type": "markdown",
   "id": "d880eb94",
   "metadata": {},
   "source": [
    "# Crie um mapa conceitual da disciplina de IA. Como você conectaria os temas e conceitos?\n",
    "\n",
    "\n",
    "Verificar arquivo HTML anexo com o mapa conceitual."
   ]
  }
 ],
 "metadata": {
  "kernelspec": {
   "display_name": "Python 3 (ipykernel)",
   "language": "python",
   "name": "python3"
  },
  "language_info": {
   "codemirror_mode": {
    "name": "ipython",
    "version": 3
   },
   "file_extension": ".py",
   "mimetype": "text/x-python",
   "name": "python",
   "nbconvert_exporter": "python",
   "pygments_lexer": "ipython3",
   "version": "3.8.18"
  }
 },
 "nbformat": 4,
 "nbformat_minor": 5
}
