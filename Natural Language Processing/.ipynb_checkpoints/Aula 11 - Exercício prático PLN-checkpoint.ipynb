{
 "cells": [
  {
   "cell_type": "markdown",
   "id": "4763b871",
   "metadata": {},
   "source": [
    "Vitor Albuquerque de Paula"
   ]
  },
  {
   "cell_type": "markdown",
   "id": "3b64e2eb",
   "metadata": {},
   "source": [
    "# Considere o seguinte arquivo textual:\n",
    "   [20 Newsgroups Dataset](https://www.kaggle.com/crawford/20-newsgroups)\n",
    "\n",
    "## Escolha 2 tópicos dentre os 20 disponíveis no dataset e faça download dos mesmos.\n",
    "\n",
    "\n"
   ]
  },
  {
   "cell_type": "code",
   "execution_count": 2,
   "id": "fd8b80ba",
   "metadata": {},
   "outputs": [
    {
     "name": "stderr",
     "output_type": "stream",
     "text": [
      "[nltk_data] Downloading package stopwords to\n",
      "[nltk_data]     C:\\Users\\ealbvit\\AppData\\Roaming\\nltk_data...\n",
      "[nltk_data]   Package stopwords is already up-to-date!\n"
     ]
    }
   ],
   "source": [
    "import pandas as pd\n",
    "from sklearn.feature_extraction.text import CountVectorizer\n",
    "from sklearn.model_selection import train_test_split\n",
    "from sklearn.naive_bayes import MultinomialNB\n",
    "from sklearn.svm import SVC\n",
    "from sklearn.metrics import accuracy_score\n",
    "import nltk\n",
    "from nltk.corpus import stopwords\n",
    "nltk.download('stopwords')\n",
    "\n",
    "import pandas as pd\n",
    "\n",
    "def read_data(file_path, label):\n",
    "    with open(file_path, 'r', encoding='utf-8', errors='ignore') as file:\n",
    "        lines = file.readlines()\n",
    "\n",
    "    # Criar o DataFrame com cada linha como um documento\n",
    "    data = pd.DataFrame({'text': lines, 'label': [label] * len(lines)})\n",
    "    return data\n",
    "\n",
    "\n",
    "\n",
    "# Concatenar os datasets\n",
    "data_space = read_data('sci.space.txt', 1)\n",
    "data_atheism = read_data('alt.atheism.txt', 2)\n",
    "data = pd.concat([data_space, data_atheism])"
   ]
  },
  {
   "cell_type": "markdown",
   "id": "bc82502d",
   "metadata": {},
   "source": [
    "## Gere um Bag of words: Leia o texto e armazene cada palavra em uma posição em um vetor. Faça a contagem da frequência de cada palavra gerando uma matriz termo-frequência. Na última coluna armazene o rótulo do texto ('1' = textos do tópico 1 e '2' = textos do tópico 2)\n",
    "\n",
    "| Story | based | premise | congress | ... | work | versions | make | sure | Rótulo |\n",
    "|-------|-------|---------|----------|-----|------|----------|------|------|--------|\n",
    "| 1     | 2     | 0       | 3        | ... | 0    | 0        | 0    | 0    | 1      |\n",
    "| 0     | 0     | 0       | 0        | ... | 1    | 5        | 0    | 1    | 2      |\n",
    "| ...   | ...   | ...     | ...      | ... | ...  | ...      | ...  | ...  | ...    |\n",
    "\n",
    "## Remova os stop words (palavras irrelevantes):\n",
    "   [Stop Words List](https://gist.github.com/sebleier/554280)"
   ]
  },
  {
   "cell_type": "code",
   "execution_count": 3,
   "id": "450d0fba",
   "metadata": {},
   "outputs": [],
   "source": [
    "# Bag of Words com remoção de stop words\n",
    "vectorizer = CountVectorizer(stop_words=stopwords.words('english'))\n",
    "X = vectorizer.fit_transform(data['text'])  # Acessando a coluna de texto pelo nome\n",
    "y = data['label']\n"
   ]
  },
  {
   "cell_type": "markdown",
   "id": "7cbea38f",
   "metadata": {},
   "source": [
    "\n",
    "\n"
   ]
  },
  {
   "cell_type": "markdown",
   "id": "2a1d5349",
   "metadata": {},
   "source": [
    "## Escolha dois algoritmos de classificação vistos anteriormente (knn, naive bayes, árvore de decisão, svm, etc) e classifique os textos (separar 70% para treino e 30% para teste). Anexar a saída e % de acerto de cada algoritmo. Pode usar algoritmos de classificação de bibliotecas."
   ]
  },
  {
   "cell_type": "code",
   "execution_count": 4,
   "id": "ad280f33",
   "metadata": {},
   "outputs": [
    {
     "name": "stdout",
     "output_type": "stream",
     "text": [
      "Distribuição dos rótulos: 2    120487\n",
      "1     87114\n",
      "Name: label, dtype: int64\n",
      "building tree 1 of 100\n",
      "building tree 2 of 100\n",
      "building tree 3 of 100\n",
      "building tree 4 of 100\n",
      "building tree 5 of 100\n",
      "building tree 6 of 100\n",
      "building tree 7 of 100\n",
      "building tree 8 of 100\n",
      "building tree 9 of 100\n",
      "building tree 10 of 100\n",
      "building tree 11 of 100\n",
      "building tree 12 of 100\n"
     ]
    },
    {
     "name": "stderr",
     "output_type": "stream",
     "text": [
      "[Parallel(n_jobs=-1)]: Using backend ThreadingBackend with 12 concurrent workers.\n"
     ]
    },
    {
     "name": "stdout",
     "output_type": "stream",
     "text": [
      "building tree 13 of 100\n",
      "building tree 14 of 100\n",
      "building tree 15 of 100\n",
      "building tree 16 of 100\n",
      "building tree 17 of 100\n",
      "building tree 18 of 100\n",
      "building tree 19 of 100\n",
      "building tree 20 of 100\n",
      "building tree 21 of 100\n",
      "building tree 22 of 100\n",
      "building tree 23 of 100\n",
      "building tree 24 of 100\n",
      "building tree 25 of 100\n",
      "building tree 26 of 100\n",
      "building tree 27 of 100\n",
      "building tree 28 of 100\n",
      "building tree 29 of 100\n"
     ]
    },
    {
     "name": "stderr",
     "output_type": "stream",
     "text": [
      "[Parallel(n_jobs=-1)]: Done  17 tasks      | elapsed:  1.3min\n"
     ]
    },
    {
     "name": "stdout",
     "output_type": "stream",
     "text": [
      "building tree 30 of 100\n",
      "building tree 31 of 100\n",
      "building tree 32 of 100\n",
      "building tree 33 of 100\n",
      "building tree 34 of 100\n",
      "building tree 35 of 100\n",
      "building tree 36 of 100\n",
      "building tree 37 of 100\n",
      "building tree 38 of 100\n",
      "building tree 39 of 100\n",
      "building tree 40 of 100\n",
      "building tree 41 of 100\n",
      "building tree 42 of 100\n",
      "building tree 43 of 100\n",
      "building tree 44 of 100\n",
      "building tree 45 of 100\n",
      "building tree 46 of 100\n",
      "building tree 47 of 100\n",
      "building tree 48 of 100\n",
      "building tree 49 of 100\n",
      "building tree 50 of 100\n",
      "building tree 51 of 100\n",
      "building tree 52 of 100\n",
      "building tree 53 of 100\n",
      "building tree 54 of 100\n",
      "building tree 55 of 100\n",
      "building tree 56 of 100\n",
      "building tree 57 of 100\n",
      "building tree 58 of 100\n",
      "building tree 59 of 100\n",
      "building tree 60 of 100\n",
      "building tree 61 of 100\n",
      "building tree 62 of 100\n",
      "building tree 63 of 100\n",
      "building tree 64 of 100\n",
      "building tree 65 of 100\n",
      "building tree 66 of 100\n",
      "building tree 67 of 100\n",
      "building tree 68 of 100\n",
      "building tree 69 of 100\n",
      "building tree 70 of 100\n",
      "building tree 71 of 100\n",
      "building tree 72 of 100\n",
      "building tree 73 of 100\n",
      "building tree 74 of 100\n",
      "building tree 75 of 100\n",
      "building tree 76 of 100\n",
      "building tree 77 of 100\n",
      "building tree 78 of 100\n",
      "building tree 79 of 100\n",
      "building tree 80 of 100\n",
      "building tree 81 of 100\n",
      "building tree 82 of 100\n",
      "building tree 83 of 100\n",
      "building tree 84 of 100\n",
      "building tree 85 of 100\n",
      "building tree 86 of 100\n",
      "building tree 87 of 100\n",
      "building tree 88 of 100\n",
      "building tree 89 of 100\n",
      "building tree 90 of 100\n",
      "building tree 91 of 100\n",
      "building tree 92 of 100\n",
      "building tree 93 of 100\n",
      "building tree 94 of 100\n",
      "building tree 95 of 100\n",
      "building tree 96 of 100\n",
      "building tree 97 of 100\n",
      "building tree 98 of 100\n",
      "building tree 99 of 100building tree 100 of 100\n",
      "\n"
     ]
    },
    {
     "name": "stderr",
     "output_type": "stream",
     "text": [
      "[Parallel(n_jobs=-1)]: Done 100 out of 100 | elapsed:  5.3min finished\n",
      "[Parallel(n_jobs=12)]: Using backend ThreadingBackend with 12 concurrent workers.\n",
      "[Parallel(n_jobs=12)]: Done  17 tasks      | elapsed:    1.4s\n"
     ]
    },
    {
     "name": "stdout",
     "output_type": "stream",
     "text": [
      "Naive Bayes Accuracy: 0.8367399367383311\n",
      "Random Forest Accuracy: 0.8757405950450378\n"
     ]
    },
    {
     "name": "stderr",
     "output_type": "stream",
     "text": [
      "[Parallel(n_jobs=12)]: Done 100 out of 100 | elapsed:    7.6s finished\n"
     ]
    }
   ],
   "source": [
    "from sklearn.model_selection import train_test_split\n",
    "from sklearn.naive_bayes import MultinomialNB\n",
    "from sklearn.ensemble import RandomForestClassifier\n",
    "from sklearn.metrics import accuracy_score\n",
    "\n",
    "# Verificar a distribuição dos rótulos\n",
    "print(\"Distribuição dos rótulos:\", y.value_counts())\n",
    "\n",
    "# Dividir os dados com estratificação\n",
    "X_train, X_test, y_train, y_test = train_test_split(X, y, test_size=0.3, stratify=y)\n",
    "\n",
    "# Treino e avaliaçao os modelos\n",
    "nb_classifier = MultinomialNB()\n",
    "nb_classifier.fit(X_train, y_train)\n",
    "nb_accuracy = accuracy_score(y_test, nb_classifier.predict(X_test))\n",
    "\n",
    "# RandomForest com jobs paralelos\n",
    "rf_classifier = RandomForestClassifier(n_jobs=-1, verbose=2)\n",
    "rf_classifier.fit(X_train, y_train)\n",
    "rf_accuracy = accuracy_score(y_test, rf_classifier.predict(X_test))\n",
    "\n",
    "print(\"Naive Bayes Accuracy:\", nb_accuracy)\n",
    "print(\"Random Forest Accuracy:\", rf_accuracy)\n"
   ]
  }
 ],
 "metadata": {
  "kernelspec": {
   "display_name": "Python 3 (ipykernel)",
   "language": "python",
   "name": "python3"
  },
  "language_info": {
   "codemirror_mode": {
    "name": "ipython",
    "version": 3
   },
   "file_extension": ".py",
   "mimetype": "text/x-python",
   "name": "python",
   "nbconvert_exporter": "python",
   "pygments_lexer": "ipython3",
   "version": "3.11.4"
  }
 },
 "nbformat": 4,
 "nbformat_minor": 5
}
