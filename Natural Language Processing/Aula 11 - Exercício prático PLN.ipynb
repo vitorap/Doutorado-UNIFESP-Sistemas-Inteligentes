{
 "cells": [
  {
   "cell_type": "markdown",
   "id": "4763b871",
   "metadata": {},
   "source": [
    "Vitor Albuquerque de Paula"
   ]
  },
  {
   "cell_type": "markdown",
   "id": "3b64e2eb",
   "metadata": {},
   "source": [
    "# Considere o seguinte arquivo textual:\n",
    "   [20 Newsgroups Dataset](https://www.kaggle.com/crawford/20-newsgroups)\n",
    "\n",
    "## Escolha 2 tópicos dentre os 20 disponíveis no dataset e faça download dos mesmos.\n",
    "\n",
    "\n"
   ]
  },
  {
   "cell_type": "code",
   "execution_count": null,
   "id": "17a85798",
   "metadata": {},
   "outputs": [],
   "source": [
    "!pip install nltk"
   ]
  },
  {
   "cell_type": "code",
   "execution_count": 1,
   "id": "fd8b80ba",
   "metadata": {},
   "outputs": [
    {
     "name": "stderr",
     "output_type": "stream",
     "text": [
      "[nltk_data] Downloading package stopwords to\n",
      "[nltk_data]     C:\\Users\\ealbvit\\AppData\\Roaming\\nltk_data...\n",
      "[nltk_data]   Package stopwords is already up-to-date!\n"
     ]
    }
   ],
   "source": [
    "import pandas as pd\n",
    "from sklearn.feature_extraction.text import CountVectorizer\n",
    "from sklearn.model_selection import train_test_split\n",
    "from sklearn.naive_bayes import MultinomialNB\n",
    "from sklearn.svm import SVC\n",
    "from sklearn.metrics import accuracy_score\n",
    "import nltk\n",
    "from nltk.corpus import stopwords\n",
    "nltk.download('stopwords')\n",
    "\n",
    "import pandas as pd\n",
    "\n",
    "def read_data(file_path, label):\n",
    "    with open(file_path, 'r', encoding='utf-8', errors='ignore') as file:\n",
    "        lines = file.readlines()\n",
    "\n",
    "    # Criar o DataFrame com cada linha como um documento\n",
    "    data = pd.DataFrame({'text': lines, 'label': [label] * len(lines)})\n",
    "    return data\n",
    "\n",
    "\n",
    "\n",
    "# Concatenar os datasets\n",
    "data_space = read_data('sci.space.txt', 1)\n",
    "data_atheism = read_data('alt.atheism.txt', 2)\n",
    "data = pd.concat([data_space, data_atheism])"
   ]
  },
  {
   "cell_type": "markdown",
   "id": "bc82502d",
   "metadata": {},
   "source": [
    "## Gere um Bag of words: Leia o texto e armazene cada palavra em uma posição em um vetor. Faça a contagem da frequência de cada palavra gerando uma matriz termo-frequência. Na última coluna armazene o rótulo do texto ('1' = textos do tópico 1 e '2' = textos do tópico 2)\n",
    "\n",
    "| Story | based | premise | congress | ... | work | versions | make | sure | Rótulo |\n",
    "|-------|-------|---------|----------|-----|------|----------|------|------|--------|\n",
    "| 1     | 2     | 0       | 3        | ... | 0    | 0        | 0    | 0    | 1      |\n",
    "| 0     | 0     | 0       | 0        | ... | 1    | 5        | 0    | 1    | 2      |\n",
    "| ...   | ...   | ...     | ...      | ... | ...  | ...      | ...  | ...  | ...    |\n",
    "\n",
    "## Remova os stop words (palavras irrelevantes):\n",
    "   [Stop Words List](https://gist.github.com/sebleier/554280)"
   ]
  },
  {
   "cell_type": "code",
   "execution_count": 2,
   "id": "450d0fba",
   "metadata": {},
   "outputs": [],
   "source": [
    "# Bag of Words com remoção de stop words\n",
    "vectorizer = CountVectorizer(stop_words=stopwords.words('english'))\n",
    "X = vectorizer.fit_transform(data['text'])  # Acessando a coluna de texto pelo nome\n",
    "y = data['label']\n"
   ]
  },
  {
   "cell_type": "markdown",
   "id": "2a1d5349",
   "metadata": {},
   "source": [
    "## Escolha dois algoritmos de classificação vistos anteriormente (knn, naive bayes, árvore de decisão, svm, etc) e classifique os textos (separar 70% para treino e 30% para teste). Anexar a saída e % de acerto de cada algoritmo. Pode usar algoritmos de classificação de bibliotecas."
   ]
  },
  {
   "cell_type": "code",
   "execution_count": 3,
   "id": "ad280f33",
   "metadata": {},
   "outputs": [
    {
     "name": "stdout",
     "output_type": "stream",
     "text": [
      "Distribuição dos rótulos: label\n",
      "2    120487\n",
      "1     87114\n",
      "Name: count, dtype: int64\n",
      "building tree 1 of 100\n",
      "building tree 2 of 100\n",
      "building tree 3 of 100\n",
      "building tree 4 of 100\n",
      "building tree 5 of 100\n",
      "building tree 6 of 100\n",
      "building tree 7 of 100\n",
      "building tree 8 of 100\n",
      "building tree 9 of 100\n",
      "building tree 10 of 100\n",
      "building tree 11 of 100\n",
      "building tree 12 of 100\n"
     ]
    },
    {
     "name": "stderr",
     "output_type": "stream",
     "text": [
      "[Parallel(n_jobs=-1)]: Using backend ThreadingBackend with 12 concurrent workers.\n"
     ]
    },
    {
     "name": "stdout",
     "output_type": "stream",
     "text": [
      "building tree 13 of 100\n",
      "building tree 14 of 100\n",
      "building tree 15 of 100\n",
      "building tree 16 of 100\n",
      "building tree 17 of 100\n",
      "building tree 18 of 100\n",
      "building tree 19 of 100\n",
      "building tree 20 of 100\n",
      "building tree 21 of 100\n",
      "building tree 22 of 100\n",
      "building tree 23 of 100\n",
      "building tree 24 of 100\n",
      "building tree 25 of 100\n",
      "building tree 26 of 100\n",
      "building tree 27 of 100\n",
      "building tree 28 of 100\n",
      "building tree 29 of 100\n",
      "building tree 30 of 100\n"
     ]
    },
    {
     "name": "stderr",
     "output_type": "stream",
     "text": [
      "[Parallel(n_jobs=-1)]: Done  17 tasks      | elapsed:  1.1min\n"
     ]
    },
    {
     "name": "stdout",
     "output_type": "stream",
     "text": [
      "building tree 31 of 100\n",
      "building tree 32 of 100\n",
      "building tree 33 of 100\n",
      "building tree 34 of 100\n",
      "building tree 35 of 100\n",
      "building tree 36 of 100\n",
      "building tree 37 of 100\n",
      "building tree 38 of 100\n",
      "building tree 39 of 100\n",
      "building tree 40 of 100\n",
      "building tree 41 of 100\n",
      "building tree 42 of 100\n",
      "building tree 43 of 100\n",
      "building tree 44 of 100\n",
      "building tree 45 of 100\n",
      "building tree 46 of 100\n",
      "building tree 47 of 100\n",
      "building tree 48 of 100\n",
      "building tree 49 of 100\n",
      "building tree 50 of 100\n",
      "building tree 51 of 100\n",
      "building tree 52 of 100\n",
      "building tree 53 of 100\n",
      "building tree 54 of 100\n",
      "building tree 55 of 100\n",
      "building tree 56 of 100\n",
      "building tree 57 of 100\n",
      "building tree 58 of 100\n",
      "building tree 59 of 100\n",
      "building tree 60 of 100\n",
      "building tree 61 of 100\n",
      "building tree 62 of 100\n",
      "building tree 63 of 100\n",
      "building tree 64 of 100\n",
      "building tree 65 of 100\n",
      "building tree 66 of 100\n",
      "building tree 67 of 100\n",
      "building tree 68 of 100\n",
      "building tree 69 of 100\n",
      "building tree 70 of 100\n",
      "building tree 71 of 100\n",
      "building tree 72 of 100\n",
      "building tree 73 of 100\n",
      "building tree 74 of 100\n",
      "building tree 75 of 100\n",
      "building tree 76 of 100\n",
      "building tree 77 of 100\n",
      "building tree 78 of 100\n",
      "building tree 79 of 100\n",
      "building tree 80 of 100\n",
      "building tree 81 of 100\n",
      "building tree 82 of 100\n",
      "building tree 83 of 100\n",
      "building tree 84 of 100\n",
      "building tree 85 of 100\n",
      "building tree 86 of 100\n",
      "building tree 87 of 100\n",
      "building tree 88 of 100\n",
      "building tree 89 of 100\n",
      "building tree 90 of 100\n",
      "building tree 91 of 100\n",
      "building tree 92 of 100\n",
      "building tree 93 of 100\n",
      "building tree 94 of 100\n",
      "building tree 95 of 100\n",
      "building tree 96 of 100\n",
      "building tree 97 of 100\n",
      "building tree 98 of 100\n",
      "building tree 99 of 100\n",
      "building tree 100 of 100\n"
     ]
    },
    {
     "name": "stderr",
     "output_type": "stream",
     "text": [
      "[Parallel(n_jobs=-1)]: Done 100 out of 100 | elapsed:  4.8min finished\n",
      "[Parallel(n_jobs=12)]: Using backend ThreadingBackend with 12 concurrent workers.\n",
      "[Parallel(n_jobs=12)]: Done  17 tasks      | elapsed:    1.7s\n"
     ]
    },
    {
     "name": "stdout",
     "output_type": "stream",
     "text": [
      "Naive Bayes Accuracy: 0.8357123360254332\n",
      "Random Forest Accuracy: 0.8734445497021563\n"
     ]
    },
    {
     "name": "stderr",
     "output_type": "stream",
     "text": [
      "[Parallel(n_jobs=12)]: Done 100 out of 100 | elapsed:    8.7s finished\n"
     ]
    }
   ],
   "source": [
    "from sklearn.model_selection import train_test_split\n",
    "from sklearn.naive_bayes import MultinomialNB\n",
    "from sklearn.ensemble import RandomForestClassifier\n",
    "from sklearn.metrics import accuracy_score\n",
    "\n",
    "# Verificar a distribuição dos rótulos\n",
    "print(\"Distribuição dos rótulos:\", y.value_counts())\n",
    "\n",
    "# Dividir os dados com estratificação\n",
    "X_train, X_test, y_train, y_test = train_test_split(X, y, test_size=0.3, stratify=y)\n",
    "\n",
    "# Treino e avaliaçao os modelos\n",
    "nb_classifier = MultinomialNB()\n",
    "nb_classifier.fit(X_train, y_train)\n",
    "nb_accuracy = accuracy_score(y_test, nb_classifier.predict(X_test))\n",
    "\n",
    "# RandomForest com jobs paralelos\n",
    "rf_classifier = RandomForestClassifier(n_jobs=-1, verbose=2)\n",
    "rf_classifier.fit(X_train, y_train)\n",
    "rf_accuracy = accuracy_score(y_test, rf_classifier.predict(X_test))\n",
    "\n",
    "print(\"Naive Bayes Accuracy:\", nb_accuracy)\n",
    "print(\"Random Forest Accuracy:\", rf_accuracy)\n"
   ]
  },
  {
   "cell_type": "code",
   "execution_count": 4,
   "id": "61136bf2",
   "metadata": {},
   "outputs": [
    {
     "data": {
      "image/png": "[encoded data removed]",
      "text/plain": [
       "<Figure size 640x480 with 1 Axes>"
      ]
     },
     "metadata": {},
     "output_type": "display_data"
    }
   ],
   "source": [
    "import matplotlib.pyplot as plt\n",
    "\n",
    "accuracies = {'Naive Bayes': nb_accuracy, 'Random Forest': rf_accuracy}\n",
    "\n",
    "plt.bar(accuracies.keys(), accuracies.values())\n",
    "plt.xlabel('Modelos')\n",
    "plt.ylabel('Acurácia')\n",
    "plt.title('Comparação de Acurácia dos Modelos')\n",
    "plt.ylim(0, 1)  # Acurácia varia entre 0 e 1\n",
    "plt.show()\n"
   ]
  },
  {
   "cell_type": "code",
   "execution_count": 8,
   "id": "f82ee749",
   "metadata": {},
   "outputs": [
    {
     "name": "stdout",
     "output_type": "stream",
     "text": [
      "Top 50 words for class 1:\n",
      "toronto: 0.0012948442958701266\n",
      "well: 0.001316365253696224\n",
      "two: 0.0013378862115223204\n",
      "years: 0.0013450598641310183\n",
      "long: 0.001384514953478862\n",
      "use: 0.0013881017797832114\n",
      "program: 0.0013916886060875609\n",
      "high: 0.0013952754323919095\n",
      "sky: 0.0014239700428267056\n",
      "access: 0.001441904174348452\n",
      "see: 0.0014562514795658493\n",
      "spacecraft: 0.0014813592636962957\n",
      "satellite: 0.0014921197426093432\n",
      "pat: 0.0014921197426093432\n",
      "know: 0.0015997245317398252\n",
      "solar: 0.0015997245317398252\n",
      "data: 0.0016068981843485233\n",
      "people: 0.0016535269263050656\n",
      "may: 0.001707329320870307\n",
      "us: 0.001718089799783354\n",
      "much: 0.0017539580628268489\n",
      "new: 0.0017826526732616437\n",
      "think: 0.0018041736310877396\n",
      "mission: 0.0018830838097834257\n",
      "system: 0.001929712551739968\n",
      "get: 0.0019942754252182567\n",
      "first: 0.002008622730435654\n",
      "time: 0.0020265568619574023\n",
      "henry: 0.0020588382986965466\n",
      "could: 0.0021234011721748343\n",
      "shuttle: 0.0021341616510878836\n",
      "moon: 0.002141335303696582\n",
      "orbit: 0.002227419135000967\n",
      "gov: 0.0022668742243488107\n",
      "launch: 0.002395999971305387\n",
      "also: 0.002417520929131484\n",
      "earth: 0.002661425117827242\n",
      "like: 0.003088257448044818\n",
      "article: 0.003210209542392698\n",
      "com: 0.003479221515218902\n",
      "one: 0.0035150897782623945\n",
      "writes: 0.004031592766088706\n",
      "nasa: 0.004512227490871522\n",
      "document_id: 0.004989275389349992\n",
      "newsgroup: 0.0051506825730457135\n",
      "would: 0.00518296400978486\n",
      "subject: 0.005340784367176233\n",
      "sci: 0.00587163466021994\n",
      "edu: 0.008457736425655848\n",
      "space: 0.01410698785500613\n",
      "\n",
      "\n",
      "Top 50 words for class 2:\n",
      "bible: 0.0016176899150118047\n",
      "islam: 0.0016771638089460635\n",
      "true: 0.0016771638089460635\n",
      "right: 0.0016801375036427763\n",
      "things: 0.0016860848930362008\n",
      "livesey: 0.0016950059771263406\n",
      "christian: 0.0017217692293967567\n",
      "also: 0.0017425850922737453\n",
      "system: 0.0017455587869704596\n",
      "argument: 0.0017693483445441627\n",
      "may: 0.00180800637560143\n",
      "point: 0.0018139537649948557\n",
      "good: 0.0018704539642324007\n",
      "something: 0.0019091119952896673\n",
      "make: 0.0019239804687732323\n",
      "moral: 0.0019358752475600823\n",
      "jesus: 0.001941822636953509\n",
      "must: 0.001965612194527211\n",
      "morality: 0.0020012965308877665\n",
      "us: 0.002039954561945033\n",
      "said: 0.0021321390975431328\n",
      "evidence: 0.0021856656020839645\n",
      "could: 0.0021856656020839645\n",
      "well: 0.00219161299147739\n",
      "way: 0.002206481464960955\n",
      "time: 0.0022808238323787765\n",
      "even: 0.0023224555581327576\n",
      "see: 0.002355166199796599\n",
      "keith: 0.002471140292968402\n",
      "religion: 0.002631719806590896\n",
      "many: 0.0026674041429514505\n",
      "believe: 0.0027982467096068168\n",
      "atheists: 0.0028309573512706582\n",
      "like: 0.0028487995194509358\n",
      "know: 0.0029499051391391733\n",
      "document_id: 0.0032859326398677288\n",
      "say: 0.0036338549193831375\n",
      "newsgroup: 0.003678460339833828\n",
      "think: 0.0038895926633004444\n",
      "alt: 0.004296988836750109\n",
      "article: 0.0043891733723482075\n",
      "com: 0.004823332798068289\n",
      "people: 0.005248571139698228\n",
      "would: 0.005251544834394941\n",
      "subject: 0.005611361892697199\n",
      "writes: 0.005635151450270904\n",
      "atheism: 0.006191232358556209\n",
      "one: 0.00646778596535051\n",
      "god: 0.006497522912317637\n",
      "edu: 0.010134351526397493\n",
      "\n",
      "\n"
     ]
    }
   ],
   "source": [
    "# Obtenha as probabilidades das palavras para cada classe\n",
    "class_probabilities = nb_classifier.feature_log_prob_\n",
    "\n",
    "# Obtenha os nomes das características (palavras)\n",
    "feature_names = vectorizer.get_feature_names_out()\n",
    "\n",
    "# Exiba as top N palavras para cada classe\n",
    "N = 50\n",
    "for i, class_probability in enumerate(class_probabilities):\n",
    "    print(f\"Top {N} words for class {i+1}:\")\n",
    "    # Ordenar as probabilidades e pegar os top N índices\n",
    "    top_indices = class_probability.argsort()[-N:]\n",
    "    for j in top_indices:\n",
    "        print(f\"{feature_names[j]}: {np.exp(class_probability[j])}\")  # Converter log probabilidade de volta para probabilidade\n",
    "    print(\"\\n\")\n"
   ]
  }
 ],
 "metadata": {
  "kernelspec": {
   "display_name": "Python 3 (ipykernel)",
   "language": "python",
   "name": "python3"
  },
  "language_info": {
   "codemirror_mode": {
    "name": "ipython",
    "version": 3
   },
   "file_extension": ".py",
   "mimetype": "text/x-python",
   "name": "python",
   "nbconvert_exporter": "python",
   "pygments_lexer": "ipython3",
   "version": "3.8.18"
  }
 },
 "nbformat": 4,
 "nbformat_minor": 5
}
