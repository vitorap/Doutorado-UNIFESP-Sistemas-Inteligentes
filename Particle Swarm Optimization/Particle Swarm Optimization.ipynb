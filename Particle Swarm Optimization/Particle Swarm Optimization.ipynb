{
 "cells": [
  {
   "cell_type": "markdown",
   "id": "e4b2887d",
   "metadata": {},
   "source": [
    "## Inicialização\n",
    "\n",
    "Nesta seção, inicializamos todos os parâmetros necessários, posições e velocidades das partículas. Também definimos a função objetivo que desejamos minimizar."
   ]
  },
  {
   "cell_type": "code",
   "execution_count": 1,
   "id": "e24a71df",
   "metadata": {},
   "outputs": [
    {
     "name": "stdout",
     "output_type": "stream",
     "text": [
      "Posições Iniciais: [0.4657 0.8956 0.3877 0.4902 0.5039]\n",
      "Velocidades Iniciais: [0.5319 0.8185 0.8331 0.7677 0.1708]\n"
     ]
    }
   ],
   "source": [
    "import numpy as np\n",
    "\n",
    "# Parâmetros\n",
    "w = 0.70\n",
    "c1 = 0.20\n",
    "c2 = 0.60\n",
    "r1 = 0.4657\n",
    "r2 = 0.5319\n",
    "iterations = 3  # Número de iterações, pode ser ajustado conforme necessário\n",
    "\n",
    "# Posições e Velocidades Iniciais\n",
    "X = np.array([0.4657, 0.8956, 0.3877, 0.4902, 0.5039])\n",
    "V = np.array([0.5319, 0.8185, 0.8331, 0.7677, 0.1708])\n",
    "\n",
    "# Função objetivo\n",
    "def f(x):\n",
    "    return 1 + 2*x - x**2\n",
    "\n",
    "print(\"Posições Iniciais:\", X)\n",
    "print(\"Velocidades Iniciais:\", V)\n"
   ]
  },
  {
   "cell_type": "markdown",
   "id": "e2d1e751",
   "metadata": {},
   "source": [
    "## Algoritmo PSO para Minimização\n",
    "Aqui, implementamos o algoritmo PSO (Particle Swarm Optimization) para minimizar nossa função. As partículas são atualizadas iterativamente com base em suas melhores posições locais e na melhor posição global."
   ]
  },
  {
   "cell_type": "code",
   "execution_count": 2,
   "id": "76c5d9ee",
   "metadata": {},
   "outputs": [
    {
     "name": "stdout",
     "output_type": "stream",
     "text": [
      "\n",
      "Iteração 1\n",
      "Velocidades: [0.34743708 0.41085879 0.58317    0.50467815 0.08247593]\n",
      "Posições: [0.81313708 1.30645879 0.97087    0.99487815 0.58637593]\n",
      "Melhores posições locais: [0.4657     1.30645879 0.3877     0.4902     0.5039    ]\n",
      "Melhor posição global: 0.3877\n",
      "Melhor valor de fitness global: 1.62508871\n",
      "\n",
      "Iteração 2\n",
      "Velocidades: [ 0.07507168 -0.00561153  0.16778967  0.11249415 -0.01335409]\n",
      "Posições: [0.88820876 1.30084727 1.13865967 1.1073723  0.57302184]\n",
      "Melhores posições locais: [0.4657     1.30645879 0.3877     0.4902     0.5039    ]\n",
      "Melhor posição global: 0.3877\n",
      "Melhor valor de fitness global: 1.62508871\n",
      "\n",
      "Iteração 3\n",
      "Velocidades: [-0.14653466 -0.29482723 -0.19215288 -0.20841374 -0.07492948]\n",
      "Posições: [0.7416741  1.00602004 0.94650679 0.89895856 0.49809235]\n",
      "Melhores posições locais: [0.4657     1.30645879 0.3877     0.4902     0.49809235]\n",
      "Melhor posição global: 0.3877\n",
      "Melhor valor de fitness global: 1.62508871\n"
     ]
    }
   ],
   "source": [
    "P_best = X.copy()\n",
    "G_best_position = X[np.argmin(f(X))]  # Consideramos o mínimo valor de f(x)\n",
    "G_best_value = f(G_best_position)\n",
    "\n",
    "for iteration in range(1, iterations + 1):\n",
    "    # Atualizar a velocidade e posição\n",
    "    V = w * V + c1 * r1 * (P_best - X) + c2 * r2 * (G_best_position - X)\n",
    "    X = X + V\n",
    "\n",
    "    # Atualizando as melhores posições locais e globais se necessário\n",
    "    for i, x in enumerate(X):\n",
    "        if f(x) < f(P_best[i]):\n",
    "            P_best[i] = x\n",
    "\n",
    "    new_best_index = np.argmin(f(X))\n",
    "    if f(X[new_best_index]) < G_best_value:\n",
    "        G_best_position = X[new_best_index]\n",
    "        G_best_value = f(X[new_best_index])\n",
    "\n",
    "    print(f\"\\nIteração {iteration}\")\n",
    "    print(\"Velocidades:\", V)\n",
    "    print(\"Posições:\", X)\n",
    "    print(\"Melhores posições locais:\", P_best)\n",
    "    print(\"Melhor posição global:\", G_best_position)\n",
    "    print(\"Melhor valor de fitness global:\", G_best_value)\n"
   ]
  },
  {
   "cell_type": "code",
   "execution_count": null,
   "id": "d352f9a6",
   "metadata": {},
   "outputs": [],
   "source": []
  }
 ],
 "metadata": {
  "kernelspec": {
   "display_name": "Python 3 (ipykernel)",
   "language": "python",
   "name": "python3"
  },
  "language_info": {
   "codemirror_mode": {
    "name": "ipython",
    "version": 3
   },
   "file_extension": ".py",
   "mimetype": "text/x-python",
   "name": "python",
   "nbconvert_exporter": "python",
   "pygments_lexer": "ipython3",
   "version": "3.8.18"
  }
 },
 "nbformat": 4,
 "nbformat_minor": 5
}
