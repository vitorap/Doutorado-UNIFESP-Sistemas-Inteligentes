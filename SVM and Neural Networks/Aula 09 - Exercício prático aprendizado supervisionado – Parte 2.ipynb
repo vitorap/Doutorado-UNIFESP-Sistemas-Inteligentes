{
 "cells": [
  {
   "cell_type": "markdown",
   "id": "bac597df",
   "metadata": {},
   "source": [
    "Vitor Albuquerque de Paula\n",
    "\n",
    "# Testar o SVM e uma MLP para o dataset IRIS: \n",
    "\n",
    "https://www.kaggle.com/uciml/iris\n",
    "Separe aleatoriamente 70% dos dados para treino e 30% para teste e reporte com um print da saída qual a acurácia do algoritmo (número de acertos).\n"
   ]
  },
  {
   "cell_type": "code",
   "execution_count": 1,
   "id": "da60d38f",
   "metadata": {},
   "outputs": [
    {
     "data": {
      "text/plain": [
       "1.0"
      ]
     },
     "execution_count": 1,
     "metadata": {},
     "output_type": "execute_result"
    }
   ],
   "source": [
    "from sklearn import datasets\n",
    "from sklearn.model_selection import train_test_split\n",
    "from sklearn.svm import SVC\n",
    "from sklearn.metrics import accuracy_score\n",
    "\n",
    "# 1. Carregar o conjunto de dados Iris\n",
    "iris = datasets.load_iris()\n",
    "X = iris.data\n",
    "y = iris.target\n",
    "\n",
    "# 2. Dividir os dados em conjuntos de treino e teste (70% treino, 30% teste)\n",
    "X_train, X_test, y_train, y_test = train_test_split(X, y, test_size=0.3, random_state=42)\n",
    "\n",
    "# 3. Treinar um modelo SVM no conjunto de treino\n",
    "svm_classifier = SVC()\n",
    "svm_classifier.fit(X_train, y_train)\n",
    "\n",
    "# 4. Avaliar o modelo no conjunto de teste e reportar a acurácia\n",
    "y_pred = svm_classifier.predict(X_test)\n",
    "accuracy = accuracy_score(y_test, y_pred)\n",
    "\n",
    "accuracy\n"
   ]
  },
  {
   "cell_type": "code",
   "execution_count": 2,
   "id": "5f15535c",
   "metadata": {},
   "outputs": [
    {
     "data": {
      "text/plain": [
       "1.0"
      ]
     },
     "execution_count": 2,
     "metadata": {},
     "output_type": "execute_result"
    }
   ],
   "source": [
    "from sklearn.neural_network import MLPClassifier\n",
    "\n",
    "# 2. Treinar uma MLP no conjunto de treino\n",
    "mlp_classifier = MLPClassifier(random_state=42, max_iter=1000)  # max_iter aumentado para garantir convergência\n",
    "mlp_classifier.fit(X_train, y_train)\n",
    "\n",
    "# 3. Avaliar o modelo no conjunto de teste e reportar a acurácia\n",
    "y_pred_mlp = mlp_classifier.predict(X_test)\n",
    "accuracy_mlp = accuracy_score(y_test, y_pred_mlp)\n",
    "\n",
    "accuracy_mlp\n"
   ]
  },
  {
   "cell_type": "markdown",
   "id": "ba6869e2",
   "metadata": {},
   "source": [
    "# Compare o resultado com os algoritmos testados na aula anterior se houve melhora na acurácia."
   ]
  },
  {
   "cell_type": "code",
   "execution_count": 4,
   "id": "327596e6",
   "metadata": {},
   "outputs": [
    {
     "data": {
      "text/html": [
       "<div>\n",
       "<style scoped>\n",
       "    .dataframe tbody tr th:only-of-type {\n",
       "        vertical-align: middle;\n",
       "    }\n",
       "\n",
       "    .dataframe tbody tr th {\n",
       "        vertical-align: top;\n",
       "    }\n",
       "\n",
       "    .dataframe thead th {\n",
       "        text-align: right;\n",
       "    }\n",
       "</style>\n",
       "<table border=\"1\" class=\"dataframe\">\n",
       "  <thead>\n",
       "    <tr style=\"text-align: right;\">\n",
       "      <th></th>\n",
       "      <th>Algoritmo</th>\n",
       "      <th>Acurácia (%)</th>\n",
       "    </tr>\n",
       "  </thead>\n",
       "  <tbody>\n",
       "    <tr>\n",
       "      <th>0</th>\n",
       "      <td>KNN</td>\n",
       "      <td>100.00</td>\n",
       "    </tr>\n",
       "    <tr>\n",
       "      <th>1</th>\n",
       "      <td>Naive Bayes Gaussiano</td>\n",
       "      <td>97.78</td>\n",
       "    </tr>\n",
       "    <tr>\n",
       "      <th>2</th>\n",
       "      <td>Árvore de Decisão (Hunt)</td>\n",
       "      <td>71.11</td>\n",
       "    </tr>\n",
       "    <tr>\n",
       "      <th>3</th>\n",
       "      <td>SVM</td>\n",
       "      <td>100.00</td>\n",
       "    </tr>\n",
       "    <tr>\n",
       "      <th>4</th>\n",
       "      <td>MLP</td>\n",
       "      <td>100.00</td>\n",
       "    </tr>\n",
       "  </tbody>\n",
       "</table>\n",
       "</div>"
      ],
      "text/plain": [
       "                  Algoritmo  Acurácia (%)\n",
       "0                       KNN        100.00\n",
       "1     Naive Bayes Gaussiano         97.78\n",
       "2  Árvore de Decisão (Hunt)         71.11\n",
       "3                       SVM        100.00\n",
       "4                       MLP        100.00"
      ]
     },
     "execution_count": 4,
     "metadata": {},
     "output_type": "execute_result"
    }
   ],
   "source": [
    "import pandas as pd\n",
    "\n",
    "# Dados para construção do relatório\n",
    "algorithms = ['KNN', 'Naive Bayes Gaussiano', 'Árvore de Decisão (Hunt)', 'SVM', 'MLP']\n",
    "accuracies = [100.0, 97.78, 71.11, 100, 100]\n",
    "\n",
    "# Construir dataframe para o relatório\n",
    "report_df = pd.DataFrame({\n",
    "    'Algoritmo': algorithms,\n",
    "    'Acurácia (%)': accuracies\n",
    "})\n",
    "\n",
    "report_df\n"
   ]
  },
  {
   "cell_type": "markdown",
   "id": "7a024750",
   "metadata": {},
   "source": [
    "--- \n",
    "**Análise:**\n",
    "\n",
    "KNN, SVM e MLP alcançaram a acurácia máxima de 100%.\n",
    "Naive Bayes Gaussiano teve um desempenho ligeiramente inferior, com uma acurácia de 97.78%.\n",
    "Árvore de Decisão (usando o algoritmo de Hunt) teve o desempenho mais baixo entre os algoritmos testados, com uma acurácia de 71.11%.\n",
    "Isso sugere que, para o conjunto de dados Iris, o KNN, SVM e MLP são os algoritmos mais adequados, enquanto a Árvore de Decisão (Hunt) pode não ser a melhor escolha."
   ]
  }
 ],
 "metadata": {
  "kernelspec": {
   "display_name": "Python 3 (ipykernel)",
   "language": "python",
   "name": "python3"
  },
  "language_info": {
   "codemirror_mode": {
    "name": "ipython",
    "version": 3
   },
   "file_extension": ".py",
   "mimetype": "text/x-python",
   "name": "python",
   "nbconvert_exporter": "python",
   "pygments_lexer": "ipython3",
   "version": "3.8.18"
  }
 },
 "nbformat": 4,
 "nbformat_minor": 5
}
