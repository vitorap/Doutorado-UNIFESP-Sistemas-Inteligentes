{
 "cells": [
  {
   "cell_type": "code",
   "execution_count": 2,
   "id": "ab35b1ef",
   "metadata": {},
   "outputs": [
    {
     "name": "stdout",
     "output_type": "stream",
     "text": [
      "[[85139    10]\n",
      " [  143 85297]]\n",
      "              precision    recall  f1-score   support\n",
      "\n",
      "           0       1.00      1.00      1.00     85149\n",
      "           1       1.00      1.00      1.00     85440\n",
      "\n",
      "    accuracy                           1.00    170589\n",
      "   macro avg       1.00      1.00      1.00    170589\n",
      "weighted avg       1.00      1.00      1.00    170589\n",
      "\n"
     ]
    }
   ],
   "source": [
    "# Importando bibliotecas\n",
    "import pandas as pd\n",
    "from sklearn.model_selection import train_test_split\n",
    "from sklearn.neighbors import KNeighborsClassifier\n",
    "from sklearn.metrics import classification_report, confusion_matrix\n",
    "\n",
    "# Carregando os dados\n",
    "df = pd.read_csv('creditcard_2023.csv')\n",
    "\n",
    "# Separando recursos e rótulos\n",
    "X = df.drop(['Class'], axis=1)  # Recursos\n",
    "y = df['Class']  # Rótulo\n",
    "\n",
    "# Dividindo os dados em conjuntos de treino e teste\n",
    "X_train, X_test, y_train, y_test = train_test_split(X, y, test_size=0.3, random_state=42)\n",
    "\n",
    "X_train = X_train.values\n",
    "X_test = X_test.values\n",
    "\n",
    "\n",
    "# Construindo e treinando o modelo KNN\n",
    "knn = KNeighborsClassifier(n_neighbors=5)  # Você pode ajustar o número de vizinhos\n",
    "knn.fit(X_train, y_train)\n",
    "\n",
    "# Fazendo previsões e avaliando o modelo\n",
    "y_pred = knn.predict(X_test)\n",
    "print(confusion_matrix(y_test, y_pred))\n",
    "print(classification_report(y_test, y_pred))\n"
   ]
  },
  {
   "cell_type": "markdown",
   "id": "6ea256fd",
   "metadata": {},
   "source": [
    "Os resultados que você forneceu incluem uma matriz de confusão e um relatório de classificação do seu modelo K-Nearest Neighbors (KNN) usado para a detecção de fraude em cartões de crédito. Vamos interpretá-los:\n",
    "\n",
    "### Matriz de Confusão\n",
    "A matriz de confusão é:\n",
    "\n",
    "```\n",
    "[[85139    10]\n",
    " [  143 85297]]\n",
    "```\n",
    "\n",
    "- **Verdadeiros Negativos (TN)**: 85,139 - O modelo previu corretamente a classe negativa (não-fraude) 85,139 vezes.\n",
    "- **Falsos Positivos (FP)**: 10 - O modelo previu erroneamente a classe positiva (fraude) 10 vezes quando era realmente negativa.\n",
    "- **Falsos Negativos (FN)**: 143 - O modelo previu erroneamente a classe negativa 143 vezes quando era realmente positiva.\n",
    "- **Verdadeiros Positivos (TP)**: 85,297 - O modelo previu corretamente a classe positiva 85,297 vezes.\n",
    "\n",
    "### Relatório de Classificação\n",
    "O relatório de classificação mostra as seguintes métricas:\n",
    "\n",
    "- **Precision** (Precisão): A precisão para ambas as classes é de 1,00, o que indica que, quando o modelo prevê uma classe, ele está correto na grande maioria das vezes.\n",
    "\n",
    "- **Recall** (Revocação ou Sensibilidade): O recall também é de 1,00 para ambas as classes, significando que o modelo foi capaz de identificar corretamente a grande maioria das instâncias de ambas as classes.\n",
    "\n",
    "- **F1-Score**: O F1-Score é a média harmônica de precisão e recall. Um F1-Score de 1,00 para ambas as classes indica um equilíbrio perfeito entre precisão e recall.\n",
    "\n",
    "- **Support**: O número de ocorrências reais de cada classe no conjunto de dados especificado. Para a classe 0, são 85,149 instâncias, e para a classe 1, são 85,440 instâncias.\n",
    "\n",
    "- **Accuracy** (Acurácia): A proporção de previsões corretas (tanto positivas quanto negativas) em relação ao total de previsões. A acurácia do modelo é extremamente alta.\n",
    "\n",
    "### Interpretação Geral\n",
    "O modelo KNN demonstrou um desempenho excepcional, com uma acurácia muito alta, e altas pontuações de precisão e recall para ambas as classes. Isso sugere que o modelo é muito eficaz na detecção de transações fraudulentas e não fraudulentas.\n",
    "\n",
    "No entanto, é importante notar que, mesmo com um desempenho tão alto, há um pequeno número de falsos positivos e falsos negativos. Isso é especialmente significativo em aplicações como a detecção de fraude em cartões de crédito, onde tanto a identificação de transações legítimas (minimizando os falsos positivos) quanto a detecção de transações fraudulentas (minimizando os falsos negativos) são cruciais. \n",
    "\n",
    "Finalmente, como sempre, é importante estar atento ao risco de overfitting e garantir que o conjunto de teste seja representativo da população geral que o modelo irá encontrar no mundo real."
   ]
  },
  {
   "cell_type": "code",
   "execution_count": null,
   "id": "efeb686f",
   "metadata": {},
   "outputs": [],
   "source": []
  },
  {
   "cell_type": "code",
   "execution_count": null,
   "id": "efcdf191",
   "metadata": {},
   "outputs": [],
   "source": []
  }
 ],
 "metadata": {
  "kernelspec": {
   "display_name": "Python 3 (ipykernel)",
   "language": "python",
   "name": "python3"
  },
  "language_info": {
   "codemirror_mode": {
    "name": "ipython",
    "version": 3
   },
   "file_extension": ".py",
   "mimetype": "text/x-python",
   "name": "python",
   "nbconvert_exporter": "python",
   "pygments_lexer": "ipython3",
   "version": "3.8.18"
  }
 },
 "nbformat": 4,
 "nbformat_minor": 5
}
