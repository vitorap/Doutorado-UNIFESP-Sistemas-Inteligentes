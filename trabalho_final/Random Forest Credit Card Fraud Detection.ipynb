{
 "cells": [
  {
   "cell_type": "code",
   "execution_count": 1,
   "id": "f792f6b1",
   "metadata": {},
   "outputs": [
    {
     "name": "stdout",
     "output_type": "stream",
     "text": [
      "[[85142     7]\n",
      " [   24 85416]]\n",
      "              precision    recall  f1-score   support\n",
      "\n",
      "           0       1.00      1.00      1.00     85149\n",
      "           1       1.00      1.00      1.00     85440\n",
      "\n",
      "    accuracy                           1.00    170589\n",
      "   macro avg       1.00      1.00      1.00    170589\n",
      "weighted avg       1.00      1.00      1.00    170589\n",
      "\n"
     ]
    }
   ],
   "source": [
    "# Importando bibliotecas\n",
    "import pandas as pd\n",
    "from sklearn.model_selection import train_test_split\n",
    "from sklearn.ensemble import RandomForestClassifier\n",
    "from sklearn.metrics import classification_report, confusion_matrix\n",
    "\n",
    "# Carregando os dados\n",
    "df = pd.read_csv('creditcard_2023.csv')\n",
    "\n",
    "# Separando recursos e rótulos\n",
    "X = df.drop(['Class'], axis=1)  # Recursos\n",
    "y = df['Class']  # Rótulo\n",
    "\n",
    "# Dividindo os dados em conjuntos de treino e teste\n",
    "X_train, X_test, y_train, y_test = train_test_split(X, y, test_size=0.3, random_state=42)\n",
    "\n",
    "# Construindo e treinando o modelo\n",
    "model = RandomForestClassifier(n_estimators=100, random_state=42)\n",
    "model.fit(X_train, y_train)\n",
    "\n",
    "# Fazendo previsões e avaliando o modelo\n",
    "y_pred = model.predict(X_test)\n",
    "print(confusion_matrix(y_test, y_pred))\n",
    "print(classification_report(y_test, y_pred))\n"
   ]
  },
  {
   "cell_type": "markdown",
   "id": "39f4a389",
   "metadata": {},
   "source": [
    "### Matriz de Confusão\n",
    "A matriz de confusão é uma tabela que mostra a performance do modelo de classificação. Para o seu modelo, a matriz é:\n",
    "\n",
    "```\n",
    "[[85142     7]\n",
    " [   24 85416]]\n",
    "```\n",
    "\n",
    "- **Verdadeiros Negativos (TN)**: 85,142 - O modelo previu corretamente a classe negativa (não-fraude) 85,142 vezes.\n",
    "- **Falsos Positivos (FP)**: 7 - O modelo previu erroneamente a classe positiva (fraude) 7 vezes quando era realmente negativa.\n",
    "- **Falsos Negativos (FN)**: 24 - O modelo previu erroneamente a classe negativa 24 vezes quando era realmente positiva.\n",
    "- **Verdadeiros Positivos (TP)**: 85,416 - O modelo previu corretamente a classe positiva 85,416 vezes.\n",
    "\n",
    "### Relatório de Classificação\n",
    "O relatório de classificação fornece várias métricas importantes:\n",
    "\n",
    "- **Precision** (Precisão): A precisão é a capacidade do classificador em não rotular como positivo uma amostra que é negativa. Para ambas as classes (0 e 1), a precisão é 1,00 ou 100%, o que indica um desempenho excepcionalmente alto do modelo.\n",
    "\n",
    "- **Recall** (Revocação ou Sensibilidade): O recall é a capacidade do classificador em encontrar todas as amostras positivas. Para ambas as classes, o recall é 1,00 ou 100%, o que significa que o modelo foi capaz de identificar corretamente todas as instâncias de ambas as classes.\n",
    "\n",
    "- **F1-Score**: É a média harmônica de precisão e recall. Um F1-Score de 1,00 para ambas as classes indica um equilíbrio perfeito entre precisão e recall.\n",
    "\n",
    "- **Support**: O número de ocorrências reais de cada classe no conjunto de dados especificado. Para a classe 0, são 85,149 instâncias, e para a classe 1, são 85,440 instâncias.\n",
    "\n",
    "- **Accuracy** (Acurácia): A proporção de previsões corretas (tanto positivas quanto negativas) em relação ao total de previsões. A acurácia do modelo é 1,00 ou 100%, o que é excepcionalmente alto.\n",
    "\n",
    "- **Macro Avg**: A média não ponderada de precisão, recall e F1-score.\n",
    "\n",
    "- **Weighted Avg**: A média ponderada de precisão, recall e F1-score.\n",
    "\n",
    "### Interpretação Geral\n",
    "O modelo demonstra um desempenho extremamente alto, com precisão, recall e F1-score de 100% para ambas as classes. Isso sugere que o modelo é eficaz na identificação de transações fraudulentas e não fraudulentas. No entanto, é importante estar atento para o risco de sobreajuste (overfitting), dado que os resultados são quase perfeitos. É recomendável realizar uma validação cruzada ou testar o modelo em um conjunto de dados completamente novo para verificar a generalização desses resultados."
   ]
  },
  {
   "cell_type": "code",
   "execution_count": null,
   "id": "d4bdbe77",
   "metadata": {},
   "outputs": [],
   "source": []
  }
 ],
 "metadata": {
  "kernelspec": {
   "display_name": "Python 3 (ipykernel)",
   "language": "python",
   "name": "python3"
  },
  "language_info": {
   "codemirror_mode": {
    "name": "ipython",
    "version": 3
   },
   "file_extension": ".py",
   "mimetype": "text/x-python",
   "name": "python",
   "nbconvert_exporter": "python",
   "pygments_lexer": "ipython3",
   "version": "3.8.18"
  }
 },
 "nbformat": 4,
 "nbformat_minor": 5
}
